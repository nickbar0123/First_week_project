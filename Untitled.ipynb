{
 "cells": [
  {
   "cell_type": "code",
   "execution_count": null,
   "metadata": {},
   "outputs": [],
   "source": [
    "#For all laptops with core i7, get... \n",
    "import time \n",
    "import requests \n",
    "from bs4 import BeautifulSoup\n",
    "\n",
    "r = requests.get(\"https://tiki.vn/laptop/c8095?src=c.1846.hamburger_menu_fly_out_banner\")\n",
    "\n",
    "soup = BeautifulSoup(r.text, 'html.parser')\n",
    "print(soup.prettify()[0:500])"
   ]
  },
  {
   "cell_type": "code",
   "execution_count": null,
   "metadata": {},
   "outputs": [],
   "source": [
    "laptop = soup.find_all('div', {'class': 'product-item'})\n",
    "print(laptop)"
   ]
  },
  {
   "cell_type": "code",
   "execution_count": 96,
   "metadata": {},
   "outputs": [
    {
     "name": "stdout",
     "output_type": "stream",
     "text": [
      "<div class=\"product-item\" data-brand=\"Apple\" data-category=\"Laptop - Máy Vi Tính - Linh kiện/Laptop/Macbook\" data-id=\"56318256\" data-price=\"25289000\" data-score=\"\" data-seller-product-id=\"56318260\" data-title=\"Apple Macbook Air 2020 - 13 Inchs (i3-10th/ 8GB/ 256GB) - Hàng Chính Hãng\" product-sku=\"2335370074640\" rel=\"\">\n",
      "<a class=\"\" data-id=\"56318256\" href=\"/apple-macbook-air-2020-13-inchs-i3-10th-8gb-256gb-hang-chinh-hang-p56318256.html?spid=56318260&amp;src=category-page-1846.8095&amp;2hi=0\" title=\"Apple Macbook Air 2020 - 13 Inchs (i3-10th/ 8GB/ 256GB) - Hàng Chính Hãng\">\n",
      "<div class=\"content\">\n",
      "<span class=\"image\">\n",
      "<img alt=\"\" class=\"product-image img-responsive\" src=\"https://salt.tikicdn.com/cache/280x280/ts/product/49/40/2b/1ff7ac9e945200f2563c4d2eb8db02ee.jpg\"/>\n",
      "<span class=\"product-right-icon\">\n",
      "</span>\n",
      "</span>\n",
      "<p class=\"icons\">\n",
      "</p>\n",
      "<p class=\"title\">\n",
      "                                    \n",
      "                    \n",
      "                                Apple Macbook Air 2020 - 13 Inchs (i3-10th/...            </p>\n",
      "<p class=\"price-sale\">\n",
      "<span class=\"final-price\">\n",
      "                    25.289.000đ                                            <span class=\"sale-tag sale-tag-square\">-13%</span>\n",
      "</span>\n",
      "<span class=\"price-regular\">28.990.000đ</span>\n",
      "<span class=\"sale-tag sale-tag-square\">-13%</span>\n",
      "</p>\n",
      "</div>\n",
      "<div class=\"price-tag-wrap\">\n",
      "</div>\n",
      "<div class=\"review-wrap\">\n",
      "<p class=\"rating\">\n",
      "<span class=\"rating-content\">\n",
      "<i class=\"star\"></i>\n",
      "<i class=\"star\"></i>\n",
      "<i class=\"star\"></i>\n",
      "<i class=\"star\"></i>\n",
      "<i class=\"star\"></i>\n",
      "<span style=\"width:100%\">\n",
      "<i class=\"star\"></i>\n",
      "<i class=\"star\"></i>\n",
      "<i class=\"star\"></i>\n",
      "<i class=\"star\"></i>\n",
      "<i class=\"star\"></i>\n",
      "</span>\n",
      "</span>\n",
      "</p>\n",
      "<p class=\"review\">(1 nhận xét)</p>\n",
      "</div>\n",
      "<div class=\"installment-wrapper\">\n",
      "<p class=\"installment\">\n",
      "<span class=\"installment-price-v2\">Trả góp 0%</span>\n",
      "</p>\n",
      "</div>\n",
      "<div class=\"ship-label-wrapper\">\n",
      "</div>\n",
      "</a>\n",
      "</div>\n"
     ]
    }
   ],
   "source": [
    "singular = soup.find('div', {'class': 'product-item'})\n",
    "print(singular)"
   ]
  },
  {
   "cell_type": "code",
   "execution_count": null,
   "metadata": {},
   "outputs": [],
   "source": []
  },
  {
   "cell_type": "code",
   "execution_count": 101,
   "metadata": {},
   "outputs": [],
   "source": [
    "data = []\n",
    "\n",
    "laptop = soup.find_all('div', {'class': 'product-item'})\n",
    "\n",
    "for lap in laptop:\n",
    "    d = {'data-brand':'', 'data-price':'', 'data-title':''}\n",
    "    \n",
    "    try:\n",
    "        d['data-brand'] = lap['data-brand']\n",
    "        d['data-price'] = lap['data-price']\n",
    "        d['data-title'] = lap['data-title']\n",
    "        data.append(d)\n",
    "    except:\n",
    "        print(\"F\")\n"
   ]
  },
  {
   "cell_type": "code",
   "execution_count": null,
   "metadata": {},
   "outputs": [],
   "source": [
    "print(data)"
   ]
  },
  {
   "cell_type": "code",
   "execution_count": null,
   "metadata": {},
   "outputs": [],
   "source": [
    "data_2 = []\n",
    "\n",
    "laptop = soup.find_all('div', {'class': 'content'})\n",
    "\n",
    "for lap in laptop:\n",
    "    e = {'title':'', 'final-price':'', 'price-regular':'', 'sale-tag sale-tag-square':''}\n",
    "    try:\n",
    "        e['title'] = lap['title']\n",
    "        e['final-price'] = lap['final-price']\n",
    "        e['price-regular'] = lap['price-regular']\n",
    "        e['sale-tag sale-tag-square'] = lap['sale-tag sale-tag-square']\n",
    "        \n",
    "        data_2.append(e)\n",
    "    except:\n",
    "        print(\"F\")\n",
    "        \n",
    "    "
   ]
  },
  {
   "cell_type": "code",
   "execution_count": 108,
   "metadata": {},
   "outputs": [
    {
     "name": "stderr",
     "output_type": "stream",
     "text": [
      "'pwd' is not recognized as an internal or external command,\n",
      "operable program or batch file.\n"
     ]
    }
   ],
   "source": []
  }
 ],
 "metadata": {
  "kernelspec": {
   "display_name": "Python 3",
   "language": "python",
   "name": "python3"
  },
  "language_info": {
   "codemirror_mode": {
    "name": "ipython",
    "version": 3
   },
   "file_extension": ".py",
   "mimetype": "text/x-python",
   "name": "python",
   "nbconvert_exporter": "python",
   "pygments_lexer": "ipython3",
   "version": "3.7.8"
  }
 },
 "nbformat": 4,
 "nbformat_minor": 4
}
