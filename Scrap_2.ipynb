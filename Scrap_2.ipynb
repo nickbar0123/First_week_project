{
 "cells": [
  {
   "cell_type": "code",
   "execution_count": 5,
   "metadata": {},
   "outputs": [],
   "source": [
    "import time\n",
    "import requests\n",
    "from bs4 import BeautifulSoup"
   ]
  },
  {
   "cell_type": "code",
   "execution_count": 7,
   "metadata": {},
   "outputs": [],
   "source": [
    "r = requests.get(\"https://tiki.vn/laptop/c8095?src=c.1846.hamburger_menu_fly_out_banner\")\n",
    "soup = BeautifulSoup(r.text, \"html.parser\")"
   ]
  },
  {
   "cell_type": "code",
   "execution_count": 181,
   "metadata": {},
   "outputs": [
    {
     "name": "stdout",
     "output_type": "stream",
     "text": [
      "<div class=\"product-item\" data-brand=\"Apple\" data-category=\"Laptop - Máy Vi Tính - Linh kiện/Laptop/Macbook\" data-id=\"56318256\" data-price=\"25289000\" data-score=\"\" data-seller-product-id=\"56318260\" data-title=\"Apple Macbook Air 2020 - 13 Inchs (i3-10th/ 8GB/ 256GB) - Hàng Chính Hãng\" product-sku=\"2335370074640\" rel=\"\">\n",
      " <a class=\"\" data-id=\"56318256\" href=\"/apple-macbook-air-2020-13-inchs-i3-10th-8gb-256gb-hang-chinh-hang-p56318256.html?spid=56318260&amp;src=category-page-1846.8095&amp;2hi=0\" title=\"Apple Macbook Air 2020 - 13 Inchs (i3-10th/ 8GB/ 256GB) - Hàng Chính Hãng\">\n",
      "  <div class=\"content\">\n",
      "   <span class=\"image\">\n",
      "    <img alt=\"\" class=\"product-image img-responsive\" src=\"https://salt.tikicdn.com/cache/280x280/ts/product/49/40/2b/1ff7ac9e945200f2563c4d2eb8db02ee.jpg\"/>\n",
      "    <span class=\"product-right-icon\">\n",
      "    </span>\n",
      "   </span>\n",
      "   <p class=\"icons\">\n",
      "   </p>\n",
      "   <p class=\"title\">\n",
      "    Apple Macbook Air 2020 - 13 Inchs (i3-10th/...\n",
      "   </p>\n",
      "   <p class=\"price-sale\">\n",
      "    <span class=\"final-price\">\n",
      "     25.289.000đ\n",
      "     <span class=\"sale-tag sale-tag-square\">\n",
      "      -13%\n",
      "     </span>\n",
      "    </span>\n",
      "    <span class=\"price-regular\">\n",
      "     28.990.000đ\n",
      "    </span>\n",
      "    <span class=\"sale-tag sale-tag-square\">\n",
      "     -13%\n",
      "    </span>\n",
      "   </p>\n",
      "  </div>\n",
      "  <div class=\"price-tag-wrap\">\n",
      "  </div>\n",
      "  <div class=\"review-wrap\">\n",
      "   <p class=\"rating\">\n",
      "    <span class=\"rating-content\">\n",
      "     <i class=\"star\">\n",
      "     </i>\n",
      "     <i class=\"star\">\n",
      "     </i>\n",
      "     <i class=\"star\">\n",
      "     </i>\n",
      "     <i class=\"star\">\n",
      "     </i>\n",
      "     <i class=\"star\">\n",
      "     </i>\n",
      "     <span style=\"width:100%\">\n",
      "      <i class=\"star\">\n",
      "      </i>\n",
      "      <i class=\"star\">\n",
      "      </i>\n",
      "      <i class=\"star\">\n",
      "      </i>\n",
      "      <i class=\"star\">\n",
      "      </i>\n",
      "      <i class=\"star\">\n",
      "      </i>\n",
      "     </span>\n",
      "    </span>\n",
      "   </p>\n",
      "   <p class=\"review\">\n",
      "    (1 nhận xét)\n",
      "   </p>\n",
      "  </div>\n",
      "  <div class=\"installment-wrapper\">\n",
      "   <p class=\"installment\">\n",
      "    <span class=\"installment-price-v2\">\n",
      "     Trả góp 0%\n",
      "    </span>\n",
      "   </p>\n",
      "  </div>\n",
      "  <div class=\"ship-label-wrapper\">\n",
      "  </div>\n",
      " </a>\n",
      "</div>\n",
      "\n"
     ]
    }
   ],
   "source": [
    "product_single = soup.find(\"div\", {\"class\":\"product-item\"})\n",
    "print(product_single.prettify())"
   ]
  },
  {
   "cell_type": "code",
   "execution_count": null,
   "metadata": {},
   "outputs": [],
   "source": [
    "product_all = soup.find_all('div', {'class': 'product-item'})\n",
    "\n",
    "data_1 = []\n",
    "data_2 = []\n",
    "data_3 = []\n",
    "data_4 = []\n",
    "for laptop in product_all:\n",
    "    \n",
    "    title = soup.find_all('p', {'class': 'title'})\n",
    "    for a in title:\n",
    "        dictionary_1 = {'Title': ''}\n",
    "        dictionary_1['Title'] = a.text.strip()\n",
    "        data_1.append(dictionary_1)\n",
    "        \n",
    "    price = soup.find_all('span', {'class':'price-regular'})\n",
    "    for b in price:\n",
    "        dictionary_2 = {'Price-regular': ''}\n",
    "        dictionary_2['Price-regular'] = b.text.strip()\n",
    "        data_2.append(dictionary_2)\n",
    "    \n",
    "    sales = soup.find_all('span', {'class':'sale-tag-square'})\n",
    "    for c in sales:\n",
    "        dictionary_3 = {'Sales': ''}\n",
    "        dictionary_3['Sales'] = c.text.strip()\n",
    "        data_3.append(dictionary_3)\n",
    "    \n",
    "    final_price = soup.find_all('span', {'class':'final-price'})\n",
    "    for d in final_price:\n",
    "        dictionary_4 = {'Final-price':''}\n",
    "        dictionary_4['Final-price'] = d.text.strip()\n",
    "        data_4.append(dictionary_4)\n",
    "\n",
    "print(data_1 + data_2 + data_3 + data_4)\n",
    "    \n"
   ]
  }
 ],
 "metadata": {
  "kernelspec": {
   "display_name": "Python 3",
   "language": "python",
   "name": "python3"
  },
  "language_info": {
   "codemirror_mode": {
    "name": "ipython",
    "version": 3
   },
   "file_extension": ".py",
   "mimetype": "text/x-python",
   "name": "python",
   "nbconvert_exporter": "python",
   "pygments_lexer": "ipython3",
   "version": "3.7.8"
  }
 },
 "nbformat": 4,
 "nbformat_minor": 4
}
