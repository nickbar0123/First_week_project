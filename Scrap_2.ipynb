{
 "cells": [
  {
   "cell_type": "code",
   "execution_count": 2,
   "metadata": {},
   "outputs": [],
   "source": [
    "import time\n",
    "import requests\n",
    "from bs4 import BeautifulSoup"
   ]
  },
  {
   "cell_type": "code",
   "execution_count": 3,
   "metadata": {},
   "outputs": [],
   "source": [
    "r = requests.get(\"https://tiki.vn/laptop/c8095?src=c.1846.hamburger_menu_fly_out_banner\")\n",
    "soup = BeautifulSoup(r.text, \"html.parser\")"
   ]
  },
  {
   "cell_type": "code",
   "execution_count": 4,
   "metadata": {},
   "outputs": [
    {
     "name": "stdout",
     "output_type": "stream",
     "text": [
      "<div class=\"product-item\" data-brand=\"Apple\" data-category=\"Laptop - Máy Vi Tính - Linh kiện/Laptop/Macbook\" data-id=\"56318256\" data-price=\"25289000\" data-score=\"\" data-seller-product-id=\"56318260\" data-title=\"Apple Macbook Air 2020 - 13 Inchs (i3-10th/ 8GB/ 256GB) - Hàng Chính Hãng\" product-sku=\"2335370074640\" rel=\"\">\n",
      " <a class=\"\" data-id=\"56318256\" href=\"/apple-macbook-air-2020-13-inchs-i3-10th-8gb-256gb-hang-chinh-hang-p56318256.html?spid=56318260&amp;src=category-page-1846.8095&amp;2hi=0\" title=\"Apple Macbook Air 2020 - 13 Inchs (i3-10th/ 8GB/ 256GB) - Hàng Chính Hãng\">\n",
      "  <div class=\"content\">\n",
      "   <span class=\"image\">\n",
      "    <img alt=\"\" class=\"product-image img-responsive\" src=\"https://salt.tikicdn.com/cache/280x280/ts/product/49/40/2b/1ff7ac9e945200f2563c4d2eb8db02ee.jpg\"/>\n",
      "    <span class=\"product-right-icon\">\n",
      "    </span>\n",
      "   </span>\n",
      "   <p class=\"icons\">\n",
      "   </p>\n",
      "   <p class=\"title\">\n",
      "    Apple Macbook Air 2020 - 13 Inchs (i3-10th/...\n",
      "   </p>\n",
      "   <p class=\"price-sale\">\n",
      "    <span class=\"final-price\">\n",
      "     25.289.000đ\n",
      "     <span class=\"sale-tag sale-tag-square\">\n",
      "      -13%\n",
      "     </span>\n",
      "    </span>\n",
      "    <span class=\"price-regular\">\n",
      "     28.990.000đ\n",
      "    </span>\n",
      "    <span class=\"sale-tag sale-tag-square\">\n",
      "     -13%\n",
      "    </span>\n",
      "   </p>\n",
      "  </div>\n",
      "  <div class=\"price-tag-wrap\">\n",
      "  </div>\n",
      "  <div class=\"review-wrap\">\n",
      "   <p class=\"rating\">\n",
      "    <span class=\"rating-content\">\n",
      "     <i class=\"star\">\n",
      "     </i>\n",
      "     <i class=\"star\">\n",
      "     </i>\n",
      "     <i class=\"star\">\n",
      "     </i>\n",
      "     <i class=\"star\">\n",
      "     </i>\n",
      "     <i class=\"star\">\n",
      "     </i>\n",
      "     <span style=\"width:100%\">\n",
      "      <i class=\"star\">\n",
      "      </i>\n",
      "      <i class=\"star\">\n",
      "      </i>\n",
      "      <i class=\"star\">\n",
      "      </i>\n",
      "      <i class=\"star\">\n",
      "      </i>\n",
      "      <i class=\"star\">\n",
      "      </i>\n",
      "     </span>\n",
      "    </span>\n",
      "   </p>\n",
      "   <p class=\"review\">\n",
      "    (1 nhận xét)\n",
      "   </p>\n",
      "  </div>\n",
      "  <div class=\"installment-wrapper\">\n",
      "   <p class=\"installment\">\n",
      "    <span class=\"installment-price-v2\">\n",
      "     Trả góp 0%\n",
      "    </span>\n",
      "   </p>\n",
      "  </div>\n",
      "  <div class=\"ship-label-wrapper\">\n",
      "  </div>\n",
      " </a>\n",
      "</div>\n",
      "\n"
     ]
    }
   ],
   "source": [
    "product_single = soup.find(\"div\", {\"class\":\"product-item\"})\n",
    "print(product_single.prettify())"
   ]
  },
  {
   "cell_type": "code",
   "execution_count": 23,
   "metadata": {},
   "outputs": [],
   "source": [
    "product_all = soup.find_all('div', {'class': 'product-item'})\n",
    "\n",
    "data_1 = []\n",
    "data_2 = []\n",
    "data_3 = []\n",
    "data_4 = []\n",
    "\n",
    "for laptop in :\n",
    "    \n",
    "    title = soup.find_all('p', {'class': 'title'})\n",
    "    for a in title:\n",
    "        dictionary_1 = {'Title': ''}\n",
    "        dictionary_1['Title'] = a.text.strip()\n",
    "        data_1.append(dictionary_1)\n",
    "        \n",
    "        \n",
    "    price = soup.find_all('span', {'class':'price-regular'})\n",
    "    for b in price:\n",
    "        dictionary_2 = {'Price-regular': ''}\n",
    "        dictionary_2['Price-regular'] = b.text.strip()\n",
    "        data_2.append(dictionary_2)\n",
    "    \n",
    "    \n",
    "    sales = soup.find_all('span', {'class':'sale-tag-square'})\n",
    "    for c in sales:\n",
    "        dictionary_3 = {'Sales': ''}\n",
    "        dictionary_3['Sales'] = c.text.strip()\n",
    "        data_3.append(dictionary_3)\n",
    "        \n",
    "    final_price = soup.find_all('span', {'class':'final-price'})\n",
    "    for d in final_price:\n",
    "        dictionary_4 = {'Final-price':''}\n",
    "        dictionary_4['Final-price'] = d.text.strip()\n",
    "        data_4.append(dictionary_4)\n",
    "\n"
   ]
  },
  {
   "cell_type": "code",
   "execution_count": null,
   "metadata": {},
   "outputs": [],
   "source": [
    "print(data_1)"
   ]
  },
  {
   "cell_type": "code",
   "execution_count": 20,
   "metadata": {},
   "outputs": [
    {
     "name": "stdout",
     "output_type": "stream",
     "text": [
      "0\n"
     ]
    }
   ],
   "source": [
    "occurence = data_1.count(\"Macbook\")\n",
    "print(occurence)"
   ]
  },
  {
   "cell_type": "code",
   "execution_count": null,
   "metadata": {},
   "outputs": [],
   "source": [
    "# product_all = soup.find_all('div', {'class': 'content'})\n",
    "\n",
    "# data_1 = []\n",
    "# data_2 = []\n",
    "# data_3 = []\n",
    "# data_4 = []\n",
    "\n",
    "\n",
    "# for x in product_all:\n",
    "#     d = {'Title':'','Regular':'','Sales':'','Discounted':''}\n",
    "    \n",
    "#     d['Title'] = product['title']\n",
    "#     data_1.append(d)\n",
    "\n",
    "# print(data_1)\n",
    "    \n",
    "    \n",
    "    \n",
    "# #     try:\n",
    "# #     title = soup.find_all('p', {'class': 'title'})\n",
    "# #     for a in title:\n",
    "# #         dictionary['Title'] = a.text.strip()\n",
    "        \n",
    "# #     price = soup.find_all('span', {'class':'price-regular'})\n",
    "# #     for b in price:\n",
    "# #         dictionary['Regular'] = b.text.strip()\n",
    "        \n",
    "# #     sales = soup.find_all('span', {'class':'sale-tag-square'})\n",
    "# #     for c in sales:\n",
    "# #         dictionary['Sales'] = c.text.strip()\n",
    "        \n",
    "# #     final_price = soup.find_all('span', {'class':'final-price'})\n",
    "# #     for d in final_price:\n",
    "# #         dictionary['Final'] = d.text.strip()\n",
    "        \n",
    "# #     data.append(dictionary)\n",
    "    \n",
    "# # except:\n",
    "# #     print(\"F\")\n",
    "\n",
    "# # print(data )"
   ]
  },
  {
   "cell_type": "code",
   "execution_count": 27,
   "metadata": {},
   "outputs": [],
   "source": [
    "product_all = soup.find_all('div', {'class': 'product-item'})\n",
    "\n",
    "data_1 = []\n",
    "data_2 = []\n",
    "data_3 = []\n",
    "data_4 = []\n",
    "\n",
    "\n",
    "    \n",
    "title = soup.find_all('p', {'class': 'title'})\n",
    "for a in title:\n",
    "    dictionary_1 = {'Title': ''}\n",
    "    dictionary_1['Title'] = a.text.strip()\n",
    "    data_1.append(dictionary_1)\n",
    "        \n",
    "        \n",
    "price = soup.find_all('span', {'class':'price-regular'})\n",
    "for b in price:\n",
    "    dictionary_2 = {'Price-regular': ''}\n",
    "    dictionary_2['Price-regular'] = b.text.strip()\n",
    "    data_2.append(dictionary_2)\n",
    "    \n",
    "    \n",
    "sales = soup.find_all('span', {'class':'sale-tag-square'})\n",
    "for c in sales:\n",
    "    dictionary_3 = {'Sales': ''}\n",
    "    dictionary_3['Sales'] = c.text.strip()\n",
    "    data_3.append(dictionary_3)\n",
    "        \n",
    "final_price = soup.find_all('span', {'class':'final-price'})\n",
    "for d in final_price:\n",
    "    dictionary_4 = {'Final-price':''}\n",
    "    dictionary_4['Final-price'] = d.text.strip()\n",
    "    data_4.append(dictionary_4)\n",
    "\n"
   ]
  },
  {
   "cell_type": "code",
   "execution_count": 28,
   "metadata": {},
   "outputs": [
    {
     "name": "stdout",
     "output_type": "stream",
     "text": [
      "[{'Title': 'Apple Macbook Air 2020 - 13 Inchs (i3-10th/...'}, {'Title': 'Laptop ASUS ExpertBook P3540FA-BQ0319T (Core...'}, {'Title': 'Laptop LG Gram 2020 17Z90N-V.AH75A5 (Core i7...'}, {'Title': 'Laptop Asus VivoBook S14 S433FA-EB054T (Core...'}, {'Title': 'Apple Macbook Air 2020 - 13 Inchs (i3-10th/...'}, {'Title': 'Apple Macbook Air 2019 - 13 inchs (i5/ 8GB/...'}, {'Title': 'Laptop Asus Vivobook A512DA-EJ406T AMD R5...'}, {'Title': 'Apple Macbook Pro 2020 - 13 Inchs (i5-8th/...'}, {'Title': 'Laptop Asus E203MAH-FD004T Celeron...'}, {'Title': 'Laptop ASUS TUF Gaming A15 FA506II-AL016T...'}, {'Title': 'Laptop Asus Vivobook D509DA-EJ285T (AMD...'}, {'Title': 'Apple Macbook Pro Touch Bar 2019 - 13 inchs...'}, {'Title': 'Laptop HP ENVY 13-aq1022TU 8QN69PA (Core i5...'}, {'Title': 'Laptop ASUS Zenbook UX434FAC-A6064T (Core i5...'}, {'Title': 'Macbook Air 2017 MQD32 (13.3 inch) - Hàng...'}, {'Title': 'Laptop MSI Bravo 15 A4DCR-052VN (AMD R5...'}, {'Title': 'Laptop Dell Inspiron 3593 N3593A (Core i3...'}, {'Title': 'Laptop Dell Vostro 5490 V4I5106W (Core 5...'}, {'Title': 'Laptop Lenovo IdeaPad S145-15API 81UT00DMVN...'}, {'Title': 'Laptop Asus Vivobook A412DA-EK346T AMD R3...'}, {'Title': 'Laptop Dell Vostro 3490 70207360 (Core i5...'}, {'Title': 'Laptop Lenovo Ideapad L340-15IRH 81LK00XLVN...'}, {'Title': 'Laptop MSI Modern 14 A10M-1053VN (Core i5...'}, {'Title': 'Laptop Dell Vostro 5590 V5590A (Core i7...'}, {'Title': 'Apple Macbook Pro Touch Bar 2019 - 13 inchs...'}, {'Title': 'Laptop Dell Inspiron 3493 WTW3M2 (Core i3...'}, {'Title': 'Laptop HP Envy 13-aq1021TU 8QN79PA (Core i5...'}, {'Title': 'Laptop LG Gram 2020 14ZD90N-V.AX53A5 (Core...'}, {'Title': 'Laptop Asus Vivobook A512DA-EJ422T AMD R5...'}, {'Title': 'Laptop HP 15s-fq1022TU 8VY75PA (Core i7...'}, {'Title': 'Laptop Asus Vivobook A412FA-EK734T (Core i5...'}, {'Title': 'Laptop Lenovo ThinkPad E14 20RAS0KX00 (Core...'}, {'Title': 'Laptop HP Pavilion 15-cs3012TU 8QP30PA (Core...'}, {'Title': 'Laptop Asus Vivobook D409DA-EK151T (AMD...'}, {'Title': 'Laptop Lenovo Legion Y540-15IRH 81SY0037VN...'}, {'Title': 'Laptop Asus Vivobook A412DA-EK144T AMD R5...'}, {'Title': 'Laptop Acer Nitro 5 AN515-52-53PC NH.Q3MSV...'}, {'Title': 'Laptop Dell Inspiron 5593 7WGNV1 Core i5...'}, {'Title': 'Laptop Asus Vivobook X509MA-BR060T (Pen...'}, {'Title': 'Microsoft Surface Laptop 3 (Core i5...'}, {'Title': 'Laptop Asus Vivobook X509FJ-EJ053T Core i5...'}, {'Title': 'Apple Macbook Air 2020 - 13 Inchs (i5-10th/...'}, {'Title': 'Microsoft Surface Go 2 (Pentium Gold 4425Y/...'}, {'Title': 'Laptop ASUS TUF Gaming FX705DT-H7138T (AMD...'}, {'Title': 'Laptop Asus ROG Zephyrus G14 GA401II-HE155T...'}, {'Title': 'Apple Macbook Pro 2020 - 13 Inchs (i5-8th/...'}, {'Title': 'Microsoft Surface Pro X (13/ SQ1TM/ 8GB/...'}, {'Title': 'Laptop Asus TUF Gaming A15 FA506IV-HN202T...'}]\n"
     ]
    }
   ],
   "source": [
    "print(data_1)"
   ]
  }
 ],
 "metadata": {
  "kernelspec": {
   "display_name": "Python 3",
   "language": "python",
   "name": "python3"
  },
  "language_info": {
   "codemirror_mode": {
    "name": "ipython",
    "version": 3
   },
   "file_extension": ".py",
   "mimetype": "text/x-python",
   "name": "python",
   "nbconvert_exporter": "python",
   "pygments_lexer": "ipython3",
   "version": "3.7.8"
  }
 },
 "nbformat": 4,
 "nbformat_minor": 4
}
