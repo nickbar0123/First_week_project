{
 "cells": [
  {
   "cell_type": "code",
   "execution_count": 125,
   "metadata": {},
   "outputs": [],
   "source": [
    "import time\n",
    "import requests\n",
    "from bs4 import BeautifulSoup\n",
    "\n",
    "# r = requests.get(\"https://tiki.vn/laptop/c8095?src=c.1846.hamburger_menu_fly_out_banner\")\n",
    "# soup = BeautifulSoup(r.text, \"html.parser\")"
   ]
  },
  {
   "cell_type": "code",
   "execution_count": 118,
   "metadata": {},
   "outputs": [],
   "source": [
    "# data_1 = []\n",
    "# data_2 = []\n",
    "# data_3 = []\n",
    "# data_4 = []\n",
    "# products = soup.find_all('div', class_ ='content')\n",
    "\n",
    "# for product in products:\n",
    "#     title = product.find('p', class_='title').text.strip()\n",
    "#     data_1.append(title)\n",
    "    \n",
    "#     original = product.find('span', class_='price-regular').text.strip()\n",
    "#     data_2.append(original)\n",
    "    \n",
    "#     sales = product.find('span', class_='sale-tag sale-tag-square').text.strip()\n",
    "#     data_3.append(sales)\n",
    "    \n",
    "#     final = product.find('span', class_='final-price').text.strip()\n",
    "#     data_4.append(final)"
   ]
  },
  {
   "cell_type": "code",
   "execution_count": null,
   "metadata": {},
   "outputs": [],
   "source": []
  },
  {
   "cell_type": "code",
   "execution_count": 119,
   "metadata": {},
   "outputs": [
    {
     "name": "stdout",
     "output_type": "stream",
     "text": [
      "                                            Product     Original Sales  \\\n",
      "0    Apple Macbook Air 2020 - 13 Inchs (i3-10th/...  28.990.000đ  -13%   \n",
      "1   Laptop ASUS ExpertBook P3540FA-BQ0319T (Core...  18.990.000đ  -21%   \n",
      "2   Laptop LG Gram 2020 17Z90N-V.AH75A5 (Core i7...  42.490.000đ   -2%   \n",
      "3   Laptop Asus VivoBook S14 S433FA-EB054T (Core...  18.490.000đ   -8%   \n",
      "4    Apple Macbook Air 2020 - 13 Inchs (i3-10th/...  32.990.000đ  -26%   \n",
      "5     Apple Macbook Pro 2020 - 13 Inchs (i5-8th/...  36.990.000đ  -13%   \n",
      "6    Apple Macbook Air 2019 - 13 inchs (i5/ 8GB/...  32.990.000đ  -27%   \n",
      "7      Laptop Asus Vivobook A512DA-EJ406T AMD R5...  15.990.000đ  -16%   \n",
      "8     Apple Macbook Pro 2020 - 13 Inchs (i5-8th/...  39.990.000đ  -17%   \n",
      "9             Laptop Asus E203MAH-FD004T Celeron...   6.090.000đ  -15%   \n",
      "10     Laptop ASUS TUF Gaming A15 FA506II-AL016T...  23.990.000đ   -5%   \n",
      "11       Laptop Asus Vivobook D509DA-EJ285T (AMD...  10.490.000đ  -10%   \n",
      "12   Apple Macbook Pro Touch Bar 2019 - 13 inchs...  36.990.000đ  -19%   \n",
      "13   Laptop HP ENVY 13-aq1022TU 8QN69PA (Core i5...  22.690.000đ   -8%   \n",
      "14  Laptop ASUS Zenbook UX434FAC-A6064T (Core i5...  24.490.000đ  -11%   \n",
      "15     Macbook Air 2017 MQD32 (13.3 inch) - Hàng...  24.750.000đ  -25%   \n",
      "16       Laptop MSI Bravo 15 A4DCR-052VN (AMD R5...  20.490.000đ   -7%   \n",
      "17      Laptop Dell Vostro 5490 V4I5106W (Core 5...  19.990.000đ  -16%   \n",
      "18   Laptop Lenovo IdeaPad S145-15API 81UT00DMVN...  10.490.000đ  -15%   \n",
      "19     Laptop Asus Vivobook A412DA-EK346T AMD R3...  11.990.000đ   -9%   \n",
      "20   Laptop Lenovo Ideapad L340-15IRH 81LK00XLVN...  17.990.000đ   -7%   \n",
      "21     Laptop Dell Vostro 3490 70207360 (Core i5...  15.990.000đ  -11%   \n",
      "22     Laptop MSI Modern 14 A10M-1053VN (Core i5...  15.990.000đ   -6%   \n",
      "23       Laptop Dell Vostro 5590 V5590A (Core i7...  24.990.000đ  -11%   \n",
      "24   Apple Macbook Pro Touch Bar 2019 - 13 inchs...  40.990.000đ  -26%   \n",
      "25     Laptop Dell Inspiron 3493 WTW3M2 (Core i3...  11.490.000đ  -13%   \n",
      "26   Laptop HP Envy 13-aq1021TU 8QN79PA (Core i5...  21.990.000đ   -7%   \n",
      "27    Laptop LG Gram 2020 14ZD90N-V.AX53A5 (Core...  28.990.000đ   -2%   \n",
      "28     Laptop Dell Inspiron 3593 N3593A (Core i3...  13.990.000đ  -25%   \n",
      "29     Laptop Asus Vivobook A512DA-EJ422T AMD R5...  15.990.000đ  -16%   \n",
      "30       Laptop HP 15s-fq1022TU 8VY75PA (Core i7...  17.990.000đ   -7%   \n",
      "31   Laptop Asus Vivobook A412FA-EK734T (Core i5...  16.990.000đ   -9%   \n",
      "32  Laptop HP Pavilion 15-cs3012TU 8QP30PA (Core...  17.490.000đ   -8%   \n",
      "33   Laptop Lenovo ThinkPad E14 20RAS0KX00 (Core...  17.490.000đ  -10%   \n",
      "34    Laptop Lenovo Legion Y540-15IRH 81SY0037VN...  23.990.000đ  -19%   \n",
      "35     Laptop Asus Vivobook A412DA-EK144T AMD R5...  14.490.000đ   -7%   \n",
      "36      Laptop Dell Inspiron 5593 7WGNV1 Core i5...  19.990.000đ  -18%   \n",
      "37       Laptop Asus Vivobook X509MA-BR060T (Pen...   8.490.000đ   -8%   \n",
      "38           Microsoft Surface Laptop 3 (Core i5...  29.990.000đ  -22%   \n",
      "39    Laptop Asus Vivobook X509FJ-EJ053T Core i5...  14.990.000đ  -17%   \n",
      "40   Apple Macbook Air 2020 - 13 Inchs (i5-10th/...  39.990.000đ  -17%   \n",
      "41    Laptop ASUS TUF Gaming FX705DT-H7138T (AMD...  23.990.000đ  -17%   \n",
      "42   Laptop Asus ROG Zephyrus G14 GA401II-HE155T...  34.990.000đ   -4%   \n",
      "43    Apple Macbook Pro 2020 - 13 Inchs (i5-8th/...  44.990.000đ  -14%   \n",
      "44      Microsoft Surface Pro X (13/ SQ1TM/ 8GB/...  32.990.000đ  -22%   \n",
      "45     Laptop Asus TUF Gaming A15 FA506IV-HN202T...  32.990.000đ   -6%   \n",
      "46   Laptop Asus Vivobook X409JA-EK010T (Core i3...  11.490.000đ  -12%   \n",
      "47        Laptop Dell Vostro 3580 T3RMD2 Core i7...  21.990.000đ  -22%   \n",
      "\n",
      "                                                Final  \n",
      "0   25.289.000đ                                   ...  \n",
      "1   15.059.000đ                                   ...  \n",
      "2   41.790.000đ                                   ...  \n",
      "3   17.089.000đ                                   ...  \n",
      "4   24.499.000đ                                   ...  \n",
      "5   32.299.000đ                                   ...  \n",
      "6   23.999.000đ                                   ...  \n",
      "7   13.379.000đ                                   ...  \n",
      "8   33.099.000đ                                   ...  \n",
      "9   5.199.000đ                                    ...  \n",
      "10  22.849.000đ                                   ...  \n",
      "11  9.399.000đ                                    ...  \n",
      "12  29.899.000đ                                   ...  \n",
      "13  20.979.000đ                                   ...  \n",
      "14  21.809.000đ                                   ...  \n",
      "15  18.480.000đ                                   ...  \n",
      "16  19.149.000đ                                   ...  \n",
      "17  16.829.000đ                                   ...  \n",
      "18  8.879.000đ                                    ...  \n",
      "19  10.859.000đ                                   ...  \n",
      "20  16.719.000đ                                   ...  \n",
      "21  14.199.000đ                                   ...  \n",
      "22  15.033.000đ                                   ...  \n",
      "23  22.329.000đ                                   ...  \n",
      "24  30.499.000đ                                   ...  \n",
      "25  10.049.000đ                                   ...  \n",
      "26  20.459.000đ                                   ...  \n",
      "27  28.490.000đ                                   ...  \n",
      "28  10.527.000đ                                   ...  \n",
      "29  13.449.000đ                                   ...  \n",
      "30  16.719.000đ                                   ...  \n",
      "31  15.499.000đ                                   ...  \n",
      "32  16.149.000đ                                   ...  \n",
      "33  15.699.000đ                                   ...  \n",
      "34  19.469.000đ                                   ...  \n",
      "35  13.449.000đ                                   ...  \n",
      "36  16.399.000đ                                   ...  \n",
      "37  7.799.000đ                                    ...  \n",
      "38  23.490.000đ                                   ...  \n",
      "39  12.409.000đ                                   ...  \n",
      "40  32.999.000đ                                   ...  \n",
      "41  19.889.000đ                                   ...  \n",
      "42  33.419.000đ                                   ...  \n",
      "43  38.489.000đ                                   ...  \n",
      "44  25.759.000đ                                   ...  \n",
      "45  31.149.000đ                                   ...  \n",
      "46  10.129.000đ                                   ...  \n",
      "47  17.239.000đ                                   ...  \n"
     ]
    }
   ],
   "source": [
    "import pandas as pd\n",
    "\n",
    "df = pd.DataFrame({'Product':data_1, 'Original':data_2, 'Sales':data_3, 'Final':data_4})\n",
    "print(df)"
   ]
  },
  {
   "cell_type": "code",
   "execution_count": 157,
   "metadata": {},
   "outputs": [],
   "source": [
    "import time\n",
    "import requests\n",
    "from bs4 import BeautifulSoup \n",
    "import numpy as py"
   ]
  },
  {
   "cell_type": "code",
   "execution_count": 172,
   "metadata": {},
   "outputs": [
    {
     "name": "stdout",
     "output_type": "stream",
     "text": [
      "\n",
      "\n",
      "\n",
      "\n",
      "\n",
      "\n"
     ]
    }
   ],
   "source": [
    "pages = py.arange(1,15,1)\n",
    "\n",
    "for page in pages:\n",
    "    page = requests.get('https://tiki.vn/laptop/c8095?src=c.1846.hamburger_menu_fly_out_banner' + '&page=' + str(page))\n",
    "    soup = BeautifulSoup(page.text,'html.parser')\n",
    "    products = soup.find_all('div', class_ ='content')\n",
    "    products = products + products\n",
    "    time.sleep(2)\n",
    "    \n",
    "    data_1 = []\n",
    "    data_2 = []\n",
    "    data_3 = []\n",
    "    data_4 = []\n",
    "    \n",
    "    for product in products:\n",
    "        title = product.find('p', class_='title').text.strip()\n",
    "        data_1.append(title)\n",
    "    \n",
    "        \n",
    "        try:\n",
    "            original = product.find('span', class_='price-regular').text.strip()\n",
    "            data_2.append(original)\n",
    "        except:\n",
    "            print(\"\")\n",
    "        \n",
    "        try:\n",
    "            sales = product.find('span', class_='sale-tag sale-tag-square').text.strip()\n",
    "            data_3.append(sales)\n",
    "        except:\n",
    "            print(\"\")\n",
    "    \n",
    "        final = product.find('span', class_='final-price').text.strip()\n",
    "        data_4.append(final)"
   ]
  },
  {
   "cell_type": "code",
   "execution_count": 174,
   "metadata": {},
   "outputs": [
    {
     "name": "stdout",
     "output_type": "stream",
     "text": [
      "['Laptop Acer Aspire A514-53-3821 NX.HUSSV.001...', 'Laptop Dell Inspiron 5491 C1JW82 (Core i7...', 'Laptop HP Probook 450 G7 9MV54PA (Core i5...', 'Laptop HP Probook 430 G7 9GQ08PA (Coree i5...', 'Laptop HP PAVILION 14-CE1011TU (5JN17PA) ....', 'Laptop Dell Inspiron Gaming G7 7588 i7-8750H...', 'Laptop Acer Swift 3 SF314-56-596E NX.H4CSV...', 'Laptop Dell Inspiron 3480 N4I7116W (Core i7...', 'Laptop Lenovo IdeaPad S340-15IWL 81N800A9VN...', 'Laptop HP ProBook 450 G7 9GQ30PA (Core i7...', 'Laptop HP ProBook 430 G7 9GQ06PA (Core i5...', 'Laptop HP Pavilion 15-cs1009TU 5JL43PA Core...', 'Laptop HP 348 G7 9PG86PA (Core i3-10110U/...', 'Laptop HP ProBook 450 G6 5YM80PA Core i5...', 'Laptop Lenovo ThinkBook 14s-IML 20RS004AVN...', 'Laptop HP ProBook 450 G7 9GQ43PA (Core i5...', 'Laptop DELL Inspiron 7373 C3TI501OW Core i5 ...', 'MSI GF63 9RCX-646VN : I5-9300H | 8GB RAM |...', 'Laptop Dell Vostro 5581 70175950 Core i5...', 'Acer Nitro AN515-54-59WX : i5-8300H | 8GB...', 'Laptop Dell Inspiron 5567 M5I5384W - Grey...', 'Lenovo Yoga C930, 13.9\" FHD IPS Touch 300...', 'Laptop Asus Vivobook A510UN-EJ466T Core i5...', 'Laptop Dell Vostro 3578 V3578B Core i5...', 'Laptop Dell Vostro 3480 70187647 Core i5...', 'Laptop Dell Vostro 14 3478 (R3M961): Core i5...', 'Laptop Dell Vostro 5481 (V4I5229W): Core i5...', 'Laptop HP 15s-du0068TX 8AG28PA Core i5...', 'Laptop HP 348 G7 9PG95PA (Core i5-10210U/...', 'Laptop Asus X407UF-BV058T - Gold Plastic  -...', 'Laptop HP ProBook 440 G6 6FL65PA Core i7...', 'Laptop Lenovo ThinkPad X1 Yoga Gen 4...', 'Laptop HP Probook 430 G7 9GQ05PA (Coree i5...', 'Laptop Lenovo ThinkBook 15-IML 20RW008WVN...', 'Laptop Gaming Acer Nitro 5 AN515-54-59WX NH...', 'Laptop HP 348 G7 9PH16PA (Core i7-10510U/...', 'Laptop Dell G7 Inspiron 7590 N7590Z (Core i7...', 'Laptop HP ProBook 450 G6 6FG83PA Core i7...', 'Laptop HP 348 G7 9PG79PA (Core i3-8130U/...', 'Máy Tính Xách Tay ASUS PRO P1440FA...', 'Laptop MSI GF65 9SD-070VN Thin/i5-9300H...', 'Laptop HP 15-DA0033TX (4ME73PA) Intel Core...', 'Laptop HP ProBook 440 G6 6FG85PA Core i5...', 'Laptop Asus X409JA-EK199T (Core i5-1035G1/...', 'Laptop Lenovo ThinkPad X1 Carbon 7...', 'Laptop Dell Vostro 5581 (VRF6J1): Core i5...', 'Laptop Dell Vostro V5581 70194501 I5...', 'Dell Vostro 5581 70175957 S1 I5 8265U 8GB...', 'Laptop Acer Aspire A514-53-3821 NX.HUSSV.001...', 'Laptop Dell Inspiron 5491 C1JW82 (Core i7...', 'Laptop HP Probook 450 G7 9MV54PA (Core i5...', 'Laptop HP Probook 430 G7 9GQ08PA (Coree i5...', 'Laptop HP PAVILION 14-CE1011TU (5JN17PA) ....', 'Laptop Dell Inspiron Gaming G7 7588 i7-8750H...', 'Laptop Acer Swift 3 SF314-56-596E NX.H4CSV...', 'Laptop Dell Inspiron 3480 N4I7116W (Core i7...', 'Laptop Lenovo IdeaPad S340-15IWL 81N800A9VN...', 'Laptop HP ProBook 450 G7 9GQ30PA (Core i7...', 'Laptop HP ProBook 430 G7 9GQ06PA (Core i5...', 'Laptop HP Pavilion 15-cs1009TU 5JL43PA Core...', 'Laptop HP 348 G7 9PG86PA (Core i3-10110U/...', 'Laptop HP ProBook 450 G6 5YM80PA Core i5...', 'Laptop Lenovo ThinkBook 14s-IML 20RS004AVN...', 'Laptop HP ProBook 450 G7 9GQ43PA (Core i5...', 'Laptop DELL Inspiron 7373 C3TI501OW Core i5 ...', 'MSI GF63 9RCX-646VN : I5-9300H | 8GB RAM |...', 'Laptop Dell Vostro 5581 70175950 Core i5...', 'Acer Nitro AN515-54-59WX : i5-8300H | 8GB...', 'Laptop Dell Inspiron 5567 M5I5384W - Grey...', 'Lenovo Yoga C930, 13.9\" FHD IPS Touch 300...', 'Laptop Asus Vivobook A510UN-EJ466T Core i5...', 'Laptop Dell Vostro 3578 V3578B Core i5...', 'Laptop Dell Vostro 3480 70187647 Core i5...', 'Laptop Dell Vostro 14 3478 (R3M961): Core i5...', 'Laptop Dell Vostro 5481 (V4I5229W): Core i5...', 'Laptop HP 15s-du0068TX 8AG28PA Core i5...', 'Laptop HP 348 G7 9PG95PA (Core i5-10210U/...', 'Laptop Asus X407UF-BV058T - Gold Plastic  -...', 'Laptop HP ProBook 440 G6 6FL65PA Core i7...', 'Laptop Lenovo ThinkPad X1 Yoga Gen 4...', 'Laptop HP Probook 430 G7 9GQ05PA (Coree i5...', 'Laptop Lenovo ThinkBook 15-IML 20RW008WVN...', 'Laptop Gaming Acer Nitro 5 AN515-54-59WX NH...', 'Laptop HP 348 G7 9PH16PA (Core i7-10510U/...', 'Laptop Dell G7 Inspiron 7590 N7590Z (Core i7...', 'Laptop HP ProBook 450 G6 6FG83PA Core i7...', 'Laptop HP 348 G7 9PG79PA (Core i3-8130U/...', 'Máy Tính Xách Tay ASUS PRO P1440FA...', 'Laptop MSI GF65 9SD-070VN Thin/i5-9300H...', 'Laptop HP 15-DA0033TX (4ME73PA) Intel Core...', 'Laptop HP ProBook 440 G6 6FG85PA Core i5...', 'Laptop Asus X409JA-EK199T (Core i5-1035G1/...', 'Laptop Lenovo ThinkPad X1 Carbon 7...', 'Laptop Dell Vostro 5581 (VRF6J1): Core i5...', 'Laptop Dell Vostro V5581 70194501 I5...', 'Dell Vostro 5581 70175957 S1 I5 8265U 8GB...']\n"
     ]
    }
   ],
   "source": [
    "print(data_1)"
   ]
  }
 ],
 "metadata": {
  "kernelspec": {
   "display_name": "Python 3",
   "language": "python",
   "name": "python3"
  },
  "language_info": {
   "codemirror_mode": {
    "name": "ipython",
    "version": 3
   },
   "file_extension": ".py",
   "mimetype": "text/x-python",
   "name": "python",
   "nbconvert_exporter": "python",
   "pygments_lexer": "ipython3",
   "version": "3.7.8"
  }
 },
 "nbformat": 4,
 "nbformat_minor": 4
}
