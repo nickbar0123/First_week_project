{
 "cells": [
  {
   "cell_type": "code",
   "execution_count": 6,
   "metadata": {},
   "outputs": [],
   "source": [
    "import time\n",
    "import requests\n",
    "from bs4 import BeautifulSoup\n",
    "import numpy as py \n",
    "import time \n",
    "import pandas as pd"
   ]
  },
  {
   "cell_type": "code",
   "execution_count": 9,
   "metadata": {},
   "outputs": [],
   "source": [
    "#Function to scrape 1 page of tiki \n",
    "def scrape_tiki():\n",
    "    for product in products:\n",
    "        d = {'Brand':'','Title':'','Original':'','Discount':'','Final':''}\n",
    "\n",
    "        try:\n",
    "            d['Title'] = product['data-title']\n",
    "            d['Brand'] = product['data-brand']\n",
    "            d['Original'] = product.find('span', {'class': 'price-regular'}).text.replace('đ','')\n",
    "            d['Discount'] = product.find('span', {'class': 'sale-tag sale-tag-square'}).text\n",
    "            d['Final'] = product['data-price']\n",
    "            data.append(d)\n",
    "        except:\n",
    "            print('F')\n",
    "    return data"
   ]
  },
  {
   "cell_type": "code",
   "execution_count": null,
   "metadata": {},
   "outputs": [],
   "source": [
    "pages = py.arange(1,16,1)\n",
    "#From page 1 to 16, step == 1\n",
    "data = []\n",
    "\n",
    "for page in pages:\n",
    "    #Run page by inclination \n",
    "    r = requests.get('https://tiki.vn/laptop/c8095?src=c.1846.hamburger_menu_fly_out_banner&page=' + str(page))\n",
    "    soup = BeautifulSoup(r.text, 'html.parser')\n",
    "    \n",
    "    products = soup.find_all('div', {'class':'product-item'})\n",
    "    time.sleep(2)\n",
    "    data = scrape_tiki()"
   ]
  },
  {
   "cell_type": "code",
   "execution_count": null,
   "metadata": {},
   "outputs": [],
   "source": [
    "#Print at ur own risk \n",
    "#print(data)"
   ]
  },
  {
   "cell_type": "code",
   "execution_count": null,
   "metadata": {},
   "outputs": [],
   "source": [
    "df = pd.DataFrame(data = data, columns = data[0].keys())\n",
    "#Convert data to DataFrame\n",
    "print(df)"
   ]
  },
  {
   "cell_type": "code",
   "execution_count": null,
   "metadata": {},
   "outputs": [],
   "source": [
    "#Download to current folder as .csv \n",
    "df.to_csv('./Final.csv')"
   ]
  }
 ],
 "metadata": {
  "kernelspec": {
   "display_name": "Python 3",
   "language": "python",
   "name": "python3"
  },
  "language_info": {
   "codemirror_mode": {
    "name": "ipython",
    "version": 3
   },
   "file_extension": ".py",
   "mimetype": "text/x-python",
   "name": "python",
   "nbconvert_exporter": "python",
   "pygments_lexer": "ipython3",
   "version": "3.7.8"
  }
 },
 "nbformat": 4,
 "nbformat_minor": 4
}
