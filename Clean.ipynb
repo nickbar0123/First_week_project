{
 "cells": [
  {
   "cell_type": "code",
   "execution_count": 1,
   "metadata": {},
   "outputs": [],
   "source": [
    "import time\n",
    "import requests\n",
    "from bs4 import BeautifulSoup\n",
    "import numpy as py \n",
    "import time \n",
    "import pandas as pd"
   ]
  },
  {
   "cell_type": "code",
   "execution_count": 88,
   "metadata": {},
   "outputs": [],
   "source": [
    "#Function to scrape 1 page of tiki \n",
    "def scrape_tiki():\n",
    "    for product in products:\n",
    "        d = {'Brand':'','Title':'', 'Description':'', 'Authenticity':'', 'Original':'','Discount':'','Final':''}\n",
    "\n",
    "        try:\n",
    "            title = product['data-title'].split('(')\n",
    "            d['Title'] = title[0]\n",
    "            \n",
    "            #Cleaning up data cuz why not\n",
    "            try:\n",
    "                description = title[1].split(')')\n",
    "                d['Description'] = description[0]\n",
    "                d['Authenticity'] = description[1].strip(' - ')\n",
    "            except:\n",
    "                print('F')\n",
    "                \n",
    "            d['Brand'] = product['data-brand']\n",
    "            d['Original'] = product.find('span', {'class': 'price-regular'}).text.replace('đ','')\n",
    "            d['Discount'] = product.find('span', {'class': 'sale-tag sale-tag-square'}).text\n",
    "            d['Final'] = product['data-price']\n",
    "            data.append(d)\n",
    "        except:\n",
    "            print('F')\n",
    "    return data\n"
   ]
  },
  {
   "cell_type": "code",
   "execution_count": null,
   "metadata": {},
   "outputs": [],
   "source": [
    "pages = py.arange(1,16,1)\n",
    "#From page 1 to 16, step == 1\n",
    "data = []\n",
    "\n",
    "for page in pages:\n",
    "    #Run page by inclination \n",
    "    r = requests.get('https://tiki.vn/laptop/c8095?src=c.1846.hamburger_menu_fly_out_banner&page=' + str(page))\n",
    "    soup = BeautifulSoup(r.text, 'html.parser')\n",
    "    \n",
    "    products = soup.find_all('div', {'class':'product-item'})\n",
    "    time.sleep(2)\n",
    "    data = scrape_tiki()"
   ]
  },
  {
   "cell_type": "code",
   "execution_count": null,
   "metadata": {},
   "outputs": [],
   "source": [
    "#Print at ur own risk \n",
    "print(data)"
   ]
  },
  {
   "cell_type": "code",
   "execution_count": 91,
   "metadata": {},
   "outputs": [
    {
     "name": "stdout",
     "output_type": "stream",
     "text": [
      "     Brand                                              Title  \\\n",
      "0    Apple                 Apple Macbook Air 2020 - 13 Inchs    \n",
      "1     Asus            Laptop ASUS ExpertBook P3540FA-BQ0319T    \n",
      "2       LG               Laptop LG Gram 2020 17Z90N-V.AH75A5    \n",
      "3     Asus            Laptop Asus VivoBook S14 S433FA-EB054T    \n",
      "4    Apple                 Apple Macbook Air 2020 - 13 Inchs    \n",
      "..     ...                                                ...   \n",
      "671   Dell                         Laptop Dell Vostro V5490B    \n",
      "672   Asus  Laptop Asus A512FA-EJ1170T i3 8145U/4GB/512Gb ...   \n",
      "673   Asus  Laptop Asus X509FJ-EJ153T i5-8265U/4GD4/1T5/15...   \n",
      "674   Asus               Laptop  Asus Vivobook A512FA-EJ440T    \n",
      "675   Dell  Laptop Dell Vostro 3580 P75F010 i5-8265U / 4GB...   \n",
      "\n",
      "                                           Description  \\\n",
      "0                                  i3-10th/ 8GB/ 256GB   \n",
      "1                                  Core i5-8265U/ 8GB    \n",
      "2       Core i7-1065G7/ 8GB/ 512GB NVMe/ 17 WQXGA IPS    \n",
      "3    Core i5-10210U/ 8GB RAM/ 512GB SSD/ 14 FHD/ Nu...   \n",
      "4                                  i3-10th/ 8GB/ 256GB   \n",
      "..                                                 ...   \n",
      "671  Core i5-10210U/ 8GB DDR4 2666MHz/ 256GB M.2 PC...   \n",
      "672                                                      \n",
      "673                                                      \n",
      "674                                                bạc   \n",
      "675                                                      \n",
      "\n",
      "                  Authenticity    Original Discount     Final  \n",
      "0              Hàng Chính Hãng  28.990.000     -13%  25263000  \n",
      "1                               18.990.000     -21%  15059000  \n",
      "2                               42.490.000      -2%  41790000  \n",
      "3              Hàng Chính Hãng  18.490.000      -8%  17089000  \n",
      "4    Hàng Nhập Khẩu Chính Hãng  32.990.000     -26%  24499000  \n",
      "..                         ...         ...      ...       ...  \n",
      "671            Hàng Chính Hãng  18.990.000      -2%  18689000  \n",
      "672                             15.000.000      -7%  13990000  \n",
      "673                             17.000.000      -6%  15990000  \n",
      "674                       15.6  18.900.000      -5%  17990000  \n",
      "675                             16.799.000     -21%  13290000  \n",
      "\n",
      "[676 rows x 7 columns]\n"
     ]
    }
   ],
   "source": [
    "df = pd.DataFrame(data = data, columns = data[0].keys())\n",
    "#Convert data to DataFrame\n",
    "print(df)"
   ]
  },
  {
   "cell_type": "code",
   "execution_count": 92,
   "metadata": {},
   "outputs": [],
   "source": [
    "#Download to current folder as .csv \n",
    "df.to_csv('./Super_clean.csv')"
   ]
  }
 ],
 "metadata": {
  "kernelspec": {
   "display_name": "Python 3",
   "language": "python",
   "name": "python3"
  },
  "language_info": {
   "codemirror_mode": {
    "name": "ipython",
    "version": 3
   },
   "file_extension": ".py",
   "mimetype": "text/x-python",
   "name": "python",
   "nbconvert_exporter": "python",
   "pygments_lexer": "ipython3",
   "version": "3.7.8"
  }
 },
 "nbformat": 4,
 "nbformat_minor": 4
}
